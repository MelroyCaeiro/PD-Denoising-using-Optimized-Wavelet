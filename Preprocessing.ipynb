{
 "cells": [
  {
   "cell_type": "markdown",
   "id": "960b15ff-c257-4cd2-a5cc-d5994424316b",
   "metadata": {},
   "source": [
    "# Partial Discharge Signal Denoising using Optimized Wavelet [Part 1]\n",
    "\n",
    "## *Preprocessing*\n",
    "\n",
    "This Python script performs the necessary signal **preprocessing** techniques required before **denoising** is performed.\n",
    "A clean partial discharge (PD) signal can be passed through this script to extract singular pulses from a pulse train, as well as to\n",
    "contaminate it with additive white Gaussian noise (AWGN), narrowband interference, or even a combination of both (AWGN+narrowband).\n",
    "\n",
    "The following functions are performed in this script:\n",
    "1. Define 1D-signal as x,y representation of time-amplitude.\n",
    "2. Obtain list of peak heights and positions [supports multiple peak finding].\n",
    "3. Visualisation of PD pulse train with peaks.\n",
    "4. Extraction of singular PD pulses from pulse train by selecting random peaks [supports multiple pulse extraction].\n",
    "5. Visualisation of singular PD pulses.\n",
    "6. AWGN noise definition.\n",
    "7. Addition of AWGN or narrowband interference, or even a combination of both.\n",
    "8. Saving of extracted PD pulses, both in clean & noisy form.\n"
   ]
  },
  {
   "cell_type": "markdown",
   "id": "59ead2be-5599-470b-b508-c7ce428b538b",
   "metadata": {},
   "source": [
    "### 1. Installation of modules\n",
    "\n",
    "Use the command 'pip install [module name]' in the terminal to install required modules."
   ]
  },
  {
   "cell_type": "code",
   "execution_count": null,
   "id": "22a79065-f817-4c16-8619-348e73b0f311",
   "metadata": {},
   "outputs": [
    {
     "name": "stdout",
     "output_type": "stream",
     "text": [
      "Requirement already satisfied: pandas in c:\\users\\melro\\appdata\\local\\programs\\python\\python310\\lib\\site-packages (1.4.2)\n",
      "Requirement already satisfied: numpy>=1.21.0 in c:\\users\\melro\\appdata\\local\\programs\\python\\python310\\lib\\site-packages (from pandas) (1.22.3)\n",
      "Requirement already satisfied: pytz>=2020.1 in c:\\users\\melro\\appdata\\local\\programs\\python\\python310\\lib\\site-packages (from pandas) (2022.1)\n",
      "Requirement already satisfied: python-dateutil>=2.8.1 in c:\\users\\melro\\appdata\\local\\programs\\python\\python310\\lib\\site-packages (from pandas) (2.8.2)\n",
      "Requirement already satisfied: six>=1.5 in c:\\users\\melro\\appdata\\local\\programs\\python\\python310\\lib\\site-packages (from python-dateutil>=2.8.1->pandas) (1.16.0)\n"
     ]
    },
    {
     "name": "stderr",
     "output_type": "stream",
     "text": [
      "WARNING: You are using pip version 21.2.4; however, version 22.1 is available.\n",
      "You should consider upgrading via the 'C:\\Users\\melro\\AppData\\Local\\Programs\\Python\\Python310\\python.exe -m pip install --upgrade pip' command.\n"
     ]
    },
    {
     "name": "stdout",
     "output_type": "stream",
     "text": [
      "Requirement already satisfied: numpy in c:\\users\\melro\\appdata\\local\\programs\\python\\python310\\lib\\site-packages (1.22.3)\n"
     ]
    },
    {
     "name": "stderr",
     "output_type": "stream",
     "text": [
      "WARNING: You are using pip version 21.2.4; however, version 22.1 is available.\n",
      "You should consider upgrading via the 'C:\\Users\\melro\\AppData\\Local\\Programs\\Python\\Python310\\python.exe -m pip install --upgrade pip' command.\n"
     ]
    }
   ],
   "source": [
    "import warnings\n",
    "warnings.filterwarnings(\"ignore\")\n",
    "!pip install pandas\n",
    "!pip install numpy\n",
    "!pip install matplotlib\n",
    "!pip install scipy"
   ]
  },
  {
   "cell_type": "markdown",
   "id": "3eea6a4b-272d-4b9a-a864-4c33f9d854c3",
   "metadata": {},
   "source": [
    "### 2. Import statements"
   ]
  },
  {
   "cell_type": "code",
   "execution_count": null,
   "id": "a5d93099-50f0-4a9c-be5a-138666e308dc",
   "metadata": {},
   "outputs": [],
   "source": [
    "import os\n",
    "import pandas as pd, numpy as np, random\n",
    "from numpy import sum, isrealobj, sqrt\n",
    "from numpy.random import standard_normal\n",
    "import matplotlib.pyplot as plt\n",
    "from scipy.signal import find_peaks, resample, spectrogram\n",
    "from math import sqrt\n",
    "from timeit import default_timer as timer"
   ]
  },
  {
   "cell_type": "markdown",
   "id": "3566bdb2-32b0-440d-938a-9785c8da43cb",
   "metadata": {},
   "source": [
    "### 3. Initialization of timer\n",
    "\n",
    "Timer allows us to determine the elapsed time for this Python script."
   ]
  },
  {
   "cell_type": "code",
   "execution_count": null,
   "id": "30aaeb00-1e8f-4cbf-b9b0-34d4665845f3",
   "metadata": {},
   "outputs": [],
   "source": [
    "start = timer()"
   ]
  },
  {
   "cell_type": "markdown",
   "id": "42e0390a-a989-431c-aa9a-47da04be9473",
   "metadata": {},
   "source": [
    "### 4. Definition of functions"
   ]
  },
  {
   "cell_type": "code",
   "execution_count": null,
   "id": "876e616f-d4fb-4427-ab16-31ba308635f3",
   "metadata": {},
   "outputs": [],
   "source": [
    "def define_samples_as_array(data):\n",
    "    \"\"\"\n",
    "    Function converts the 1D-signal into x,y representation; y is amplitude, x is sample number.\n",
    "    - Sampling time is (no. of sampling points)/(sampling frequency) = 1s; obtained from presentation slides\n",
    "    - No. of sampling points = 500002 samples\n",
    "    - Sampling frequency is 500002 samples/sec = 0.5MHz\n",
    "    \"\"\"\n",
    "\n",
    "    x = np.linspace(0,len(data), len(data))\n",
    "    data = pd.DataFrame(data).to_numpy()\n",
    "    data = data.ravel()\n",
    "    y = data\n",
    "\n",
    "    return x,y\n",
    "\n",
    "def get_peaks(x,y):\n",
    "    \"\"\"\n",
    "    Function obtains peak height and peak position from the input x & y values, derived from define_samples_as_array().\n",
    "    - Height is minimum required height\n",
    "    - Threshold is minimum required threshold, ie vertical distance from neighbour\n",
    "    - Prominence measures how much a peak stands out from the surrounding baseline\n",
    "    \"\"\"\n",
    "\n",
    "    peaks = find_peaks(y, height=1.0, threshold=0.2, prominence=0.8)\n",
    "    #print(peaks)\n",
    "    height = peaks[1]['peak_heights']\n",
    "    peak_pos = x[peaks[0]]\n",
    "\n",
    "    return height, peak_pos\n",
    "\n",
    "def plot_peaks(x,y, height, peak_pos):\n",
    "    \"\"\"\n",
    "    Function plots peaks [height and position] in the signal using x, y, peak height & peak position from get_peaks().\n",
    "    \"\"\"\n",
    "    fig = plt.figure()\n",
    "    plt.title(\"Peaks in full PD signal\")\n",
    "    ax = fig.subplots()\n",
    "    ax.plot(x,y)\n",
    "    ax.scatter(peak_pos, height, color='r', s=15, marker='D', label='Maxima')\n",
    "    ax.legend()\n",
    "    plt.ylabel('Amplitude [mV]')\n",
    "    plt.xlabel('Samples')\n",
    "    ax.grid()\n",
    "    plt.show()\n",
    "\n",
    "def get_pulses(x,y, peak_pos, num_pulses, length, file_name):\n",
    "    \"\"\"\n",
    "    Function extracts singular pulses from the full signal within a specified window 'length'.\n",
    "    Randomly gets a value within (length-10) to determine where pulse peak should be placed\n",
    "    (how much padding to the left).\n",
    "    Using pulse index, places peak with shift by random value generated.\n",
    "    Creates new signal with desired length.\n",
    "    \"\"\"\n",
    "\n",
    "    peak_index = list(map(int, peak_pos))\n",
    "    pulse_index = random.choices(peak_index, k=num_pulses)\n",
    "    #print(pulse_index)\n",
    "\n",
    "    new_signal = np.empty((num_pulses, length))\n",
    "\n",
    "    for idx, j in enumerate(pulse_index):\n",
    "        peak_shift = random.choice(range(0, length-10))\n",
    "        pulses = y[j-peak_shift:j-peak_shift+length]\n",
    "        #print(pulses)\n",
    "        new_signal[idx, :] = pulses\n",
    "\n",
    "    for idx, j in enumerate(new_signal):\n",
    "        lines = new_signal[idx]\n",
    "        output = \"\\n\".join(map(str, lines))\n",
    "        new_filename = \"PD_Data/Pulses/\"+file_name[8:]+\"_Pulse\"+str(idx+1)+\".txt\"\n",
    "        #print(new_filename)\n",
    "        with open(new_filename, 'w') as f:\n",
    "            f.writelines(output)\n",
    "\n",
    "    #print(new_signal)\n",
    "    return new_signal\n",
    "\n",
    "def plot_pulse(data, title):\n",
    "    \"\"\"\n",
    "    Function plots the singular pulses obtained from get_pulses().\n",
    "    Differs from plot_peaks(); intended to display only singular pulses/peaks.\n",
    "    \"\"\"\n",
    "    fig = plt.figure()\n",
    "    plt.title(title)\n",
    "    ax = fig.subplots()\n",
    "    ax.plot(data)\n",
    "    ax.grid()\n",
    "    plt.ylabel('Amplitude [mV]')\n",
    "    plt.xlabel('Samples')\n",
    "    plt.show()\n",
    "\n",
    "def awgn(data, SNRdB, L=1):\n",
    "    \"\"\"\n",
    "    Function adds AWGN noise to the input signal. AWGN noise vector is added to signal 'data' to generate\n",
    "    a resulting signal vector 'r' of specified SNR in dB.\n",
    "    It also returns the noise vector 'n' that is added to the signal 's' and the power spectral density N0\n",
    "    of noise added (removed output).\n",
    "    Parameters:\n",
    "        data : input/transmitted signal vector\n",
    "        SNRdB : desired signal-to-noise ratio (expressed in dB) for the received signal\n",
    "        L : oversampling factor (applicable for waveform simulation) default L = 1.\n",
    "    Returns:\n",
    "        r : received signal vector (r=s+n)\n",
    "    \"\"\"\n",
    "\n",
    "    gamma = 10**(SNRdB/10)  # SNR to linear scale\n",
    "    if data.ndim == 1:  # if s is single dimensional vector\n",
    "        P = L * sum(abs(data) ** 2) / len(data)  # Actual power in the vector\n",
    "    else:  # multi-dimensional signals like MFSK\n",
    "        P = L * sum(sum(abs(data) ** 2)) / len(data)  # if s is a matrix [MxN]\n",
    "    N0 = P / gamma  # Find the noise spectral density\n",
    "    if isrealobj(data):  # check if input is real/complex object type\n",
    "        n = sqrt(N0 / 2) * standard_normal(data.shape)  # computed noise\n",
    "    else:\n",
    "        n = sqrt(N0 / 2) * (standard_normal(data.shape) + 1j * standard_normal(data.shape))\n",
    "    r = data + n  # received signal\n",
    "\n",
    "    return r\n",
    "\n",
    "def add_noise(pulse, SNR, idx, noise_type):\n",
    "    \"\"\"\n",
    "    Function adds noise to the input signal; two noise types available, with a third being a combination of both noises.\n",
    "    Noisy signal frequency is set to 20MHz, dt = 5*(10^8); allows for accurate representation of\n",
    "    high frequency narrowband interference.\n",
    "    Parameters:\n",
    "          pulse: input signal (singular pulse)\n",
    "          SNR: desired signal-to-noise ratio (expressed in dB); applies only to the AWGN noise\n",
    "          idx: index of the input signal; used for naming of noisy output signal\n",
    "          noise_type: selection of noise type; '0' refers to AWGN only, '1' refers to narrowband interference only,\n",
    "                      and '2' refers to AWGN+narrowband interference\n",
    "    \"\"\"\n",
    "\n",
    "    f_pulse = 0.5*(10**6)   # Pulse frequency\n",
    "    f_sampling = 20*(10**6) # Final PD sampling frequency\n",
    "    num_samples = len(pulse)*int((f_sampling/f_pulse))\n",
    "    resampled_pulse = resample(pulse, num_samples)\n",
    "\n",
    "    dt = 1/f_sampling\n",
    "    t = np.arange(0,num_samples*dt,dt)\n",
    "    n = np.arange(0,num_samples,1)\n",
    "\n",
    "    fo1 = 2*(10**6)\n",
    "    fo2 = 10*(10**6)\n",
    "    fo3 = 15*(10**6)\n",
    "    c1 = 2.0*np.sin(2*np.pi*(fo1/f_sampling)*n)\n",
    "    c2 = 2.5*np.sin(2*np.pi*(fo2/f_sampling)*n)\n",
    "    c3 = 2.0*np.sin(2*np.pi*(fo3/f_sampling)*n)\n",
    "\n",
    "    narrowband_noise = c1+c2+c3\n",
    "\n",
    "    match noise_type:\n",
    "        case 0:\n",
    "            noisy_signal = awgn(resampled_pulse,SNR)\n",
    "        case 1:\n",
    "            noisy_signal = resampled_pulse + narrowband_noise\n",
    "        case 2:\n",
    "            noisy_signal = awgn(resampled_pulse,SNR) + narrowband_noise\n",
    "\n",
    "    lines = noisy_signal\n",
    "    output = \"\\n\".join(map(str, lines))\n",
    "    new_filename = \"PD_Data/NoisyPulses/\" + file_name[8:] + \"_NoisyPulse\" + str(\n",
    "        idx + 1) + \".txt\"\n",
    "    # print(new_filename)\n",
    "    with open(new_filename, 'w') as f:\n",
    "        f.writelines(output)\n",
    "\n",
    "    return noisy_signal\n",
    "\n",
    "def spectro(pulse):\n",
    "    \"\"\"\n",
    "    Functions plots a spectrogram of the pulse. High noise levels obscure the pulse, making it less visible.\n",
    "    \"\"\"\n",
    "    f_sampling = 20 * (10 ** 6)  # Final PD sampling frequency\n",
    "    f, t, Sxx = spectrogram(pulse, f_sampling)\n",
    "    plt.figure(figsize=(6, 5))\n",
    "    plt.title(\"Spectrogram\")\n",
    "    plt.pcolormesh(t, f, Sxx, shading='gouraud')\n",
    "    plt.ylabel('Frequency [Hz]')\n",
    "    plt.xlabel('Time [sec]')\n",
    "    plt.show()"
   ]
  },
  {
   "cell_type": "markdown",
   "id": "dd2abdd3-0e73-446c-a3e9-931566802af5",
   "metadata": {},
   "source": [
    "### 5. Calling functions\n",
    "\n",
    "Call functions below.\n",
    "Simply change the file path to extract new PD pulses.\n",
    "Files generated will be named automatically.\n",
    "In ***get_pulses()***, the 4th argument defines the number of pulses generated, while the 5th one defines the pulse length.\n",
    "To change the SNR & noise type for noisy pulses, modify the 2nd & 4th argument of ***add_noise()*** in the ***for()*** loop."
   ]
  },
  {
   "cell_type": "code",
   "execution_count": null,
   "id": "7a83ca45-bad1-4298-91e3-4e451514741f",
   "metadata": {},
   "outputs": [],
   "source": [
    "file_path = 'PD_Data/Void3.txt'\n",
    "file_name = os.path.splitext(file_path)[0]\n",
    "print(\"Accessed: \"+file_name)\n",
    "corona1 = pd.read_csv(file_path)\n",
    "x,y = define_samples_as_array(corona1)\n",
    "height,peak_pos = get_peaks(x,y)\n",
    "plot_peaks(x,y, height, peak_pos)\n",
    "new_signal = get_pulses(x,y, peak_pos, 1, 100, file_name)   # 100 samples = 0.2ms\n",
    "\n",
    "for idx, i in enumerate(new_signal):\n",
    "    title = \"Clean PD Pulse \" + str(idx+1)\n",
    "    plot_pulse(i, title)\n",
    "    noisy = add_noise(i, 10, idx, 0)    # Pulse, SNR, index, noise type\n",
    "    title = \"Noisy PD Pulse \" + str(idx+1)\n",
    "    plot_pulse(noisy, title)\n",
    "    spectro(noisy)\n",
    "    pass"
   ]
  },
  {
   "cell_type": "markdown",
   "id": "ee18977f-9928-49e4-aba5-83bec30d3b53",
   "metadata": {},
   "source": [
    "### 6. End of script\n",
    "\n",
    "Completion status is presented, and timer is ended here."
   ]
  },
  {
   "cell_type": "code",
   "execution_count": null,
   "id": "9fabdabd-4b6f-4579-a7ba-23a70e4e18ed",
   "metadata": {},
   "outputs": [],
   "source": [
    "end = timer()\n",
    "elapsed = end-start\n",
    "print(\"\\n===Completed===\\n\")\n",
    "print(\"Elapsed Time: \",elapsed,\"secs\\n\")"
   ]
  },
  {
   "cell_type": "markdown",
   "id": "b89bd83c-20b5-46e6-af4b-bdca52c92931",
   "metadata": {},
   "source": [
    "## *Next: Non-Dominated Sorting Genetic Algorithm (NSGA2)*\n",
    "\n",
    "[**Part 2**](https://github.com/MelroyCaeiro/PD-Denoising-using-Optimized-Wavelet/blob/main/NSGA2.ipynb) applies the NSGA2 multi-objective optimization algorithm to determine the optimal wavelet and thresholding function\n",
    "parameters. Click the hyperlink above to continue to the next step of the optimized wavelet denoising process."
   ]
  }
 ],
 "metadata": {
  "kernelspec": {
   "display_name": "Python 3 (ipykernel)",
   "language": "python",
   "name": "python3"
  },
  "language_info": {
   "codemirror_mode": {
    "name": "ipython",
    "version": 3
   },
   "file_extension": ".py",
   "mimetype": "text/x-python",
   "name": "python",
   "nbconvert_exporter": "python",
   "pygments_lexer": "ipython3",
   "version": "3.10.1"
  }
 },
 "nbformat": 4,
 "nbformat_minor": 5
}
