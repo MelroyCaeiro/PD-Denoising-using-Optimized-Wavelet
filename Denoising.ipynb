{
 "cells": [
  {
   "cell_type": "markdown",
   "id": "9aa2ec7b-873d-4e2b-b92c-47bf4ad1910b",
   "metadata": {},
   "source": [
    "# Partial Discharge Signal Denoising using Optimized Wavelet [Part 3]\n",
    "\n",
    "## *Wavelet Denoising using Optimized Wavelet Parameters*\n",
    "\n",
    "This Python script performs an **optimized wavelet denoising** technique using the optimal wavelet & thresholding function parameters obtained\n",
    "from the **NSGA2** tool.\n",
    "\n",
    "The following functions are performed in this script:\n",
    "1. Definition of signal similarity measures/indices to be used as objectives for optimization [CC, SNR, MSE, peak height & peak position deviation].\n",
    "2. Definition of wavelet filter bank, and subsequent creation of custom wavelet object using PyWt.\n",
    "3. Optimized wavelet denoising, featuring decomposition at 7 levels, QCTF thresholding function, and reconstruction.\n",
    "4. Basic wavelet denoising, featuring decomposition at 7 levels, hard thresholding function, and reconstruction.\n",
    "5. Definition of Savitzky-Golay filter to smooth out the output from the optimized wavelet denoising technique.\n",
    "6. Visualisation of denoising performance with 1-to-1 comparison between clean, noisy, & denoised signals.\n",
    "7. Saving denoised signal as a .txt file [WORK IN PROGRESS]."
   ]
  },
  {
   "cell_type": "markdown",
   "id": "59ead2be-5599-470b-b508-c7ce428b538b",
   "metadata": {},
   "source": [
    "### 1. Installation of modules\n",
    "\n",
    "Use the command 'pip install [module name]' in the terminal to install required modules."
   ]
  },
  {
   "cell_type": "code",
   "execution_count": 1,
   "id": "22a79065-f817-4c16-8619-348e73b0f311",
   "metadata": {},
   "outputs": [
    {
     "name": "stdout",
     "output_type": "stream",
     "text": [
      "Requirement already satisfied: pandas in c:\\users\\melro\\appdata\\local\\programs\\python\\python310\\lib\\site-packages (1.4.2)\n",
      "Requirement already satisfied: pytz>=2020.1 in c:\\users\\melro\\appdata\\local\\programs\\python\\python310\\lib\\site-packages (from pandas) (2022.1)\n",
      "Requirement already satisfied: python-dateutil>=2.8.1 in c:\\users\\melro\\appdata\\local\\programs\\python\\python310\\lib\\site-packages (from pandas) (2.8.2)\n",
      "Requirement already satisfied: numpy>=1.21.0 in c:\\users\\melro\\appdata\\local\\programs\\python\\python310\\lib\\site-packages (from pandas) (1.22.3)\n",
      "Requirement already satisfied: six>=1.5 in c:\\users\\melro\\appdata\\local\\programs\\python\\python310\\lib\\site-packages (from python-dateutil>=2.8.1->pandas) (1.16.0)\n"
     ]
    },
    {
     "name": "stderr",
     "output_type": "stream",
     "text": [
      "WARNING: You are using pip version 21.2.4; however, version 22.1 is available.\n",
      "You should consider upgrading via the 'C:\\Users\\melro\\AppData\\Local\\Programs\\Python\\Python310\\python.exe -m pip install --upgrade pip' command.\n"
     ]
    },
    {
     "name": "stdout",
     "output_type": "stream",
     "text": [
      "Requirement already satisfied: numpy in c:\\users\\melro\\appdata\\local\\programs\\python\\python310\\lib\\site-packages (1.22.3)\n"
     ]
    },
    {
     "name": "stderr",
     "output_type": "stream",
     "text": [
      "WARNING: You are using pip version 21.2.4; however, version 22.1 is available.\n",
      "You should consider upgrading via the 'C:\\Users\\melro\\AppData\\Local\\Programs\\Python\\Python310\\python.exe -m pip install --upgrade pip' command.\n"
     ]
    },
    {
     "name": "stdout",
     "output_type": "stream",
     "text": [
      "Requirement already satisfied: matplotlib in c:\\users\\melro\\appdata\\local\\programs\\python\\python310\\lib\\site-packages (3.5.2)\n",
      "Requirement already satisfied: fonttools>=4.22.0 in c:\\users\\melro\\appdata\\local\\programs\\python\\python310\\lib\\site-packages (from matplotlib) (4.33.3)\n",
      "Requirement already satisfied: packaging>=20.0 in c:\\users\\melro\\appdata\\local\\programs\\python\\python310\\lib\\site-packages (from matplotlib) (21.3)\n",
      "Requirement already satisfied: pyparsing>=2.2.1 in c:\\users\\melro\\appdata\\local\\programs\\python\\python310\\lib\\site-packages (from matplotlib) (3.0.9)\n",
      "Requirement already satisfied: kiwisolver>=1.0.1 in c:\\users\\melro\\appdata\\local\\programs\\python\\python310\\lib\\site-packages (from matplotlib) (1.4.2)\n",
      "Requirement already satisfied: python-dateutil>=2.7 in c:\\users\\melro\\appdata\\local\\programs\\python\\python310\\lib\\site-packages (from matplotlib) (2.8.2)\n",
      "Requirement already satisfied: numpy>=1.17 in c:\\users\\melro\\appdata\\local\\programs\\python\\python310\\lib\\site-packages (from matplotlib) (1.22.3)\n",
      "Requirement already satisfied: pillow>=6.2.0 in c:\\users\\melro\\appdata\\local\\programs\\python\\python310\\lib\\site-packages (from matplotlib) (9.1.0)\n",
      "Requirement already satisfied: cycler>=0.10 in c:\\users\\melro\\appdata\\local\\programs\\python\\python310\\lib\\site-packages (from matplotlib) (0.11.0)\n",
      "Requirement already satisfied: six>=1.5 in c:\\users\\melro\\appdata\\local\\programs\\python\\python310\\lib\\site-packages (from python-dateutil>=2.7->matplotlib) (1.16.0)\n"
     ]
    },
    {
     "name": "stderr",
     "output_type": "stream",
     "text": [
      "WARNING: You are using pip version 21.2.4; however, version 22.1 is available.\n",
      "You should consider upgrading via the 'C:\\Users\\melro\\AppData\\Local\\Programs\\Python\\Python310\\python.exe -m pip install --upgrade pip' command.\n"
     ]
    },
    {
     "name": "stdout",
     "output_type": "stream",
     "text": [
      "Requirement already satisfied: pywavelets in c:\\users\\melro\\appdata\\local\\programs\\python\\python310\\lib\\site-packages (1.3.0)\n",
      "Requirement already satisfied: numpy>=1.17.3 in c:\\users\\melro\\appdata\\local\\programs\\python\\python310\\lib\\site-packages (from pywavelets) (1.22.3)\n"
     ]
    },
    {
     "name": "stderr",
     "output_type": "stream",
     "text": [
      "WARNING: You are using pip version 21.2.4; however, version 22.1 is available.\n",
      "You should consider upgrading via the 'C:\\Users\\melro\\AppData\\Local\\Programs\\Python\\Python310\\python.exe -m pip install --upgrade pip' command.\n"
     ]
    },
    {
     "name": "stdout",
     "output_type": "stream",
     "text": [
      "Requirement already satisfied: pymoo in c:\\users\\melro\\appdata\\local\\programs\\python\\python310\\lib\\site-packages (0.5.0)\n",
      "Requirement already satisfied: cma==2.7 in c:\\users\\melro\\appdata\\local\\programs\\python\\python310\\lib\\site-packages (from pymoo) (2.7.0)\n",
      "Requirement already satisfied: scipy>=1.1 in c:\\users\\melro\\appdata\\local\\programs\\python\\python310\\lib\\site-packages (from pymoo) (1.8.0)\n",
      "Requirement already satisfied: matplotlib>=3 in c:\\users\\melro\\appdata\\local\\programs\\python\\python310\\lib\\site-packages (from pymoo) (3.5.2)\n",
      "Requirement already satisfied: autograd>=1.3 in c:\\users\\melro\\appdata\\local\\programs\\python\\python310\\lib\\site-packages (from pymoo) (1.4)\n",
      "Requirement already satisfied: numpy>=1.15 in c:\\users\\melro\\appdata\\local\\programs\\python\\python310\\lib\\site-packages (from pymoo) (1.22.3)\n",
      "Requirement already satisfied: future>=0.15.2 in c:\\users\\melro\\appdata\\local\\programs\\python\\python310\\lib\\site-packages (from autograd>=1.3->pymoo) (0.18.2)\n",
      "Requirement already satisfied: fonttools>=4.22.0 in c:\\users\\melro\\appdata\\local\\programs\\python\\python310\\lib\\site-packages (from matplotlib>=3->pymoo) (4.33.3)\n",
      "Requirement already satisfied: python-dateutil>=2.7 in c:\\users\\melro\\appdata\\local\\programs\\python\\python310\\lib\\site-packages (from matplotlib>=3->pymoo) (2.8.2)\n",
      "Requirement already satisfied: kiwisolver>=1.0.1 in c:\\users\\melro\\appdata\\local\\programs\\python\\python310\\lib\\site-packages (from matplotlib>=3->pymoo) (1.4.2)\n",
      "Requirement already satisfied: pyparsing>=2.2.1 in c:\\users\\melro\\appdata\\local\\programs\\python\\python310\\lib\\site-packages (from matplotlib>=3->pymoo) (3.0.9)\n",
      "Requirement already satisfied: packaging>=20.0 in c:\\users\\melro\\appdata\\local\\programs\\python\\python310\\lib\\site-packages (from matplotlib>=3->pymoo) (21.3)\n",
      "Requirement already satisfied: pillow>=6.2.0 in c:\\users\\melro\\appdata\\local\\programs\\python\\python310\\lib\\site-packages (from matplotlib>=3->pymoo) (9.1.0)\n",
      "Requirement already satisfied: cycler>=0.10 in c:\\users\\melro\\appdata\\local\\programs\\python\\python310\\lib\\site-packages (from matplotlib>=3->pymoo) (0.11.0)\n",
      "Requirement already satisfied: six>=1.5 in c:\\users\\melro\\appdata\\local\\programs\\python\\python310\\lib\\site-packages (from python-dateutil>=2.7->matplotlib>=3->pymoo) (1.16.0)\n"
     ]
    },
    {
     "name": "stderr",
     "output_type": "stream",
     "text": [
      "WARNING: You are using pip version 21.2.4; however, version 22.1 is available.\n",
      "You should consider upgrading via the 'C:\\Users\\melro\\AppData\\Local\\Programs\\Python\\Python310\\python.exe -m pip install --upgrade pip' command.\n"
     ]
    },
    {
     "name": "stdout",
     "output_type": "stream",
     "text": [
      "Requirement already satisfied: scipy in c:\\users\\melro\\appdata\\local\\programs\\python\\python310\\lib\\site-packages (1.8.0)\n",
      "Requirement already satisfied: numpy<1.25.0,>=1.17.3 in c:\\users\\melro\\appdata\\local\\programs\\python\\python310\\lib\\site-packages (from scipy) (1.22.3)\n"
     ]
    },
    {
     "name": "stderr",
     "output_type": "stream",
     "text": [
      "WARNING: You are using pip version 21.2.4; however, version 22.1 is available.\n",
      "You should consider upgrading via the 'C:\\Users\\melro\\AppData\\Local\\Programs\\Python\\Python310\\python.exe -m pip install --upgrade pip' command.\n"
     ]
    },
    {
     "name": "stdout",
     "output_type": "stream",
     "text": [
      "Requirement already satisfied: scikit-learn in c:\\users\\melro\\appdata\\local\\programs\\python\\python310\\lib\\site-packages (1.1.0)\n",
      "Requirement already satisfied: scipy>=1.3.2 in c:\\users\\melro\\appdata\\local\\programs\\python\\python310\\lib\\site-packages (from scikit-learn) (1.8.0)\n",
      "Requirement already satisfied: threadpoolctl>=2.0.0 in c:\\users\\melro\\appdata\\local\\programs\\python\\python310\\lib\\site-packages (from scikit-learn) (3.1.0)\n",
      "Requirement already satisfied: numpy>=1.17.3 in c:\\users\\melro\\appdata\\local\\programs\\python\\python310\\lib\\site-packages (from scikit-learn) (1.22.3)\n",
      "Requirement already satisfied: joblib>=1.0.0 in c:\\users\\melro\\appdata\\local\\programs\\python\\python310\\lib\\site-packages (from scikit-learn) (1.1.0)\n"
     ]
    },
    {
     "name": "stderr",
     "output_type": "stream",
     "text": [
      "WARNING: You are using pip version 21.2.4; however, version 22.1 is available.\n",
      "You should consider upgrading via the 'C:\\Users\\melro\\AppData\\Local\\Programs\\Python\\Python310\\python.exe -m pip install --upgrade pip' command.\n"
     ]
    }
   ],
   "source": [
    "import warnings\n",
    "warnings.filterwarnings(\"ignore\")\n",
    "!pip install pandas\n",
    "!pip install numpy\n",
    "!pip install matplotlib\n",
    "!pip install pywavelets\n",
    "!pip install pymoo\n",
    "!pip install scipy\n",
    "!pip install scikit-learn"
   ]
  },
  {
   "cell_type": "markdown",
   "id": "3eea6a4b-272d-4b9a-a864-4c33f9d854c3",
   "metadata": {},
   "source": [
    "### 2. Import statements"
   ]
  },
  {
   "cell_type": "code",
   "execution_count": 2,
   "id": "a5d93099-50f0-4a9c-be5a-138666e308dc",
   "metadata": {},
   "outputs": [],
   "source": [
    "import os\n",
    "import pywt, pandas as pd, numpy as np\n",
    "import matplotlib.pyplot as plt\n",
    "from scipy.signal import resample\n",
    "from sklearn.metrics import mean_squared_error\n",
    "from math import log10, factorial\n",
    "from scipy.stats import pearsonr\n",
    "from timeit import default_timer as timer"
   ]
  },
  {
   "cell_type": "markdown",
   "id": "3566bdb2-32b0-440d-938a-9785c8da43cb",
   "metadata": {},
   "source": [
    "### 3. Initialization of timer\n",
    "\n",
    "Timer allows us to determine the elapsed time for this Python script."
   ]
  },
  {
   "cell_type": "code",
   "execution_count": 3,
   "id": "30aaeb00-1e8f-4cbf-b9b0-34d4665845f3",
   "metadata": {},
   "outputs": [],
   "source": [
    "start = timer()"
   ]
  },
  {
   "cell_type": "markdown",
   "id": "63c9c661-f60d-4538-8fa5-37e436a7cc88",
   "metadata": {},
   "source": [
    "### 4. Initialization of input signals\n",
    "\n",
    "Initialize input signals here. Only edit ***'clean_file_path'***; noisy signal will be automatically found\n",
    "Input signals include the clean and noisy signal, which is used for signal similarity measures/indices.\n",
    "Additionally, upsampling is done on the clean signal [from 99 to 4000 samples] to allow for\n",
    "a 1-to-1 comparison with the noisy signal.\n",
    "Upsampling the clean signal may negatively impact the signal similarity indices by returning false results \n",
    "[not fully tested;almost negligible impact], but should theoretically be better than downsampling the noisy signal\n",
    "and potentially losing high frequency information."
   ]
  },
  {
   "cell_type": "code",
   "execution_count": 4,
   "id": "c8dd99cb-c5bf-45b4-94c8-92050d3cfb74",
   "metadata": {},
   "outputs": [
    {
     "name": "stdout",
     "output_type": "stream",
     "text": [
      "Accessed: Void3_Pulse5\n",
      "PD_Data/NoisyPulses/Void3_NoisyPulse5.txt\n"
     ]
    }
   ],
   "source": [
    "clean_file_path = 'PD_Data/Pulses/Void3_Pulse5.txt'\n",
    "file_name = os.path.splitext(clean_file_path)[0][15:]\n",
    "print(\"Accessed: \"+file_name)\n",
    "filename_cutoff1 = file_name.find('_')\n",
    "filename_cutoff2 = file_name.find('.')\n",
    "noisy_file_path = \"PD_Data/NoisyPulses/\"+file_name[:filename_cutoff1]+\"_NoisyPulse\"+file_name[filename_cutoff2:]+\".txt\"\n",
    "print(noisy_file_path)\n",
    "\n",
    "clean_csv = pd.read_csv(clean_file_path)\n",
    "clean_data = pd.DataFrame(clean_csv).to_numpy()\n",
    "clean_data = clean_data.ravel()\n",
    "clean_signal = clean_data\n",
    "clean_signal_upsampled = resample(clean_signal, 4000)\n",
    "\n",
    "noisy_csv = pd.read_csv(noisy_file_path)\n",
    "noisy_data = pd.DataFrame(noisy_csv).to_numpy()\n",
    "noisy_data = noisy_data.ravel()\n",
    "noisy_signal = noisy_data"
   ]
  },
  {
   "cell_type": "markdown",
   "id": "31d58b97-22ad-48d1-80b2-245ada495208",
   "metadata": {},
   "source": [
    "### 5. Filter bank definition, & custom wavelet object creation\n",
    "\n",
    "Definition of method to automatically fetch input [**optimal solutions**] determined by [***NSGA2.ipynb***](https://www.example.com), from the ***'FilterBank'*** subfolder.\n",
    "The array called ***'input'*** contains the **wavelet filter bank** values from index 0 to 19, and the **optimal thresholding function** values from index 20 to 22."
   ]
  },
  {
   "cell_type": "code",
   "execution_count": 5,
   "id": "8674d22c-60ca-48f8-8665-3a01825f3f2e",
   "metadata": {},
   "outputs": [
    {
     "name": "stdout",
     "output_type": "stream",
     "text": [
      "['0.13298633477993574\\n', '0.09368478848830288\\n', '-0.41824723462167107\\n', '-0.33084196459802806\\n', '-0.31559594265486157\\n', '0.36501774446077795\\n', '0.5821159426182358\\n', '0.050102986150557464\\n', '0.04027522981565031\\n', '0.4927257183818709\\n', '-0.23858455846416338\\n', '-0.3118660691816394\\n', '0.17707870309111168\\n', '0.20298053212452533\\n', '0.20953513312544136\\n', '0.07073395008095004\\n', '0.4637188860279984\\n', '0.20181709844205858\\n', '-0.005356587861422028\\n', '0.3035948159114954\\n', '-13.129075317060947\\n', '-15.597310841495094\\n', '-3.7100032476535043']\n"
     ]
    }
   ],
   "source": [
    "input_file_path = 'PD_Data/FilterBank/'+file_name+'.txt'\n",
    "\n",
    "with open(input_file_path, \"r\") as f:\n",
    "    input = f.readlines()\n",
    "\n",
    "print(input)\n",
    "\n",
    "a = float(input[20])\n",
    "ld_e = float(input[21])\n",
    "ld = float(input[22])\n",
    "\n",
    "LoD = [float(input[0]), float(input[1]), float(input[2]), float(input[3]), float(input[4]), float(input[5]), float(input[6]),\n",
    "       float(input[7]), float(input[8]), float(input[9])]\n",
    "HiD = LoD[::-1]\n",
    "LoR = [float(input[10]), float(input[11]), float(input[12]), float(input[13]), float(input[14]), float(input[15]), float(input[16]),\n",
    "       float(input[17]), float(input[18]), float(input[19])]\n",
    "HiR = LoR[::-1]\n",
    "\n",
    "my_filter_bank = [LoD, HiD, LoR, HiR]\n",
    "my_wavelet = pywt.Wavelet('Custom Wavelet', filter_bank=my_filter_bank)"
   ]
  },
  {
   "cell_type": "markdown",
   "id": "72989761-9a3e-4efa-8d04-95a8ba6021e3",
   "metadata": {},
   "source": [
    "### 6. Definition of signal similarity measures/indices functions\n",
    "\n",
    "We take into account the **CC**, **MSE**, **SNR**, **peak height** & **peak position** to evaluate similarity with the original signal.\n",
    "Measures ordered by significance: **CC** > **MSE** >= **SNR** > **peak height** >= **peak position**."
   ]
  },
  {
   "cell_type": "code",
   "execution_count": 6,
   "id": "974945e6-d41c-4ec0-b8bf-c0887a64cdd0",
   "metadata": {},
   "outputs": [],
   "source": [
    "def CC(clean, noisy):\n",
    "    \"\"\"\n",
    "    Function returns the Pearson correlation coefficient based on the clean and noisy signal.\n",
    "    Similar signals will result in a value of +1, indicating perfect correlation.\n",
    "    A value of -1 indicates inverse correlation, while 0 indicates no correlation.\n",
    "    As such, we intend to optimize this closest to +1 [maximization; assuming CC calculated cannot exceed +1]\n",
    "    \"\"\"\n",
    "    return pearsonr(clean,noisy)[0]\n",
    "\n",
    "def MSE(clean, noisy):\n",
    "    \"\"\"\n",
    "    Function returns the mean-squared error between the clean and noisy signal.\n",
    "    Similar signals will result in a value closest to 0.\n",
    "    As such, we intend to optimize this closest to 0 [minimization]\n",
    "    \"\"\"\n",
    "    return (mean_squared_error(clean, noisy))\n",
    "\n",
    "def SNR(clean, noisy):\n",
    "    \"\"\"\n",
    "    Function returns the signal-to-noise ratio based on the clean and noisy signal.\n",
    "    SNR calculation method obtained from: https://github.com/hrtlacek/SNR/blob/main/SNR.ipynb\n",
    "    Using method 2; subtract difference in power between noisy and clean signal to obtain noise power.\n",
    "    Then, SNR is the ratio of signal power to noise power.\n",
    "    \"\"\"\n",
    "\n",
    "    clean_power = sum(abs(clean) ** 2) / len(clean)\n",
    "    denoised_power = sum(abs(noisy) ** 2) / len(noisy)\n",
    "\n",
    "    noise_power = float(denoised_power) - float(clean_power)    # finding noise power\n",
    "    x = (denoised_power - noise_power) / (noise_power)  # SNR; (signal power alone)/(noise power alone)\n",
    "\n",
    "    # x = clean_power/noise_power   # method technically works when compared with this line; results in same SNR\n",
    "    # ans = log1p(abs(x))\n",
    "    # ans2 = expm1(ans) - 1\n",
    "    # return 10*ans2\n",
    "\n",
    "    return 10 * log10(abs(x))"
   ]
  },
  {
   "cell_type": "markdown",
   "id": "7f8c42bc-2dd1-447f-9131-5b1628af30bb",
   "metadata": {},
   "source": [
    "### 7. Definition of wavelet denoising function\n",
    "\n",
    "Includes the optimized denoising using QCTF thresholding function, & a basic denoising using universal\n",
    "thresholding function.\n",
    "\n",
    "Optimized denoising function:\n",
    "Takes in **20 filter bank** arguments and **3 thresholding** arguments, resulting in **23 variables** to optimize.\n",
    "Effects of filter bank length has not been thoroughly analysed, but a length of **10** for both **low-pass decomposition filter**\n",
    "and **low-pass reconstruction filter** exhibits adequate denoising performance and low computation time.\n",
    "The **high-pass filters** are merely **mirrored** versions of the **low-pass filters** for a **biorthogonal wavelet**.\n",
    "**Biorthogonal wavelets** allow for a **linear phase**, hence, given the computational power at our disposal and the need for the\n",
    "best denoising performance, we opt for the more complex approach as compared to an orthogonal wavelet.\n",
    "**7 decomposition levels** exhibit decent denoising performance; the **QCTF [quadratic curve TF] thresholding function** used is\n",
    "reportedly better than the regular soft & hard functions for abruptly changing signals like ECG, which is similar to PD."
   ]
  },
  {
   "cell_type": "code",
   "execution_count": 7,
   "id": "4124b1f1-cece-4e22-992c-2d4ae413e821",
   "metadata": {},
   "outputs": [],
   "source": [
    "def wavelet_denoising():\n",
    "    \"\"\"\n",
    "    Function performs wavelet denoising with a custom wavelet at 7 decomposition levels, with\n",
    "    QCTF thresholding function: Link: https://ieeexplore.ieee.org/document/7158597.\n",
    "    All values are optimized using NSGA2 with pymoo.\n",
    "    - 'a' to 't' are wavelet filter bank values\n",
    "    - 'u' is the curve coefficient for the QCTF\n",
    "    - 'v' is the curve end point\n",
    "    - 'w' is the threshold value\n",
    "    \"\"\"\n",
    "\n",
    "    # Decomposition of signal\n",
    "    new_coeffs = pywt.wavedec(noisy_signal, wavelet=my_wavelet, level=7, mode='per')\n",
    "\n",
    "    # QCTF thresholding\n",
    "    # ld_e is curve end point, a is curve coefficient\n",
    "    b = ((ld_e) / (ld_e - ld)) - a * (ld_e + ld)\n",
    "    c = (ld * ld_e) * ((1 / (ld - ld_e)) + a)\n",
    "\n",
    "    for idx, val in enumerate(new_coeffs):\n",
    "        for idx2, x in enumerate(new_coeffs[idx]):\n",
    "            if (abs(x) < ld):\n",
    "                new_coeffs[idx][idx2] = 0\n",
    "            elif (ld < abs(x) < ld_e):\n",
    "                new_coeffs[idx][idx2] = a * (x ** 2) + b * x + c\n",
    "            else:\n",
    "                new_coeffs[idx][idx2] = x\n",
    "\n",
    "    # Reconstruction of signal post-thresholding\n",
    "    return pywt.waverec(new_coeffs, my_wavelet, mode='per')\n",
    "\n",
    "def madev(d, axis=None):\n",
    "    return np.mean(np.absolute(d - np.mean(d, axis)), axis)\n",
    "\n",
    "def basic_wavelet_denoising(wavelet):\n",
    "    \"\"\"\n",
    "    Function performs a basic wavelet denoising using a universal threshold function as defined by [Donoho? idk].\n",
    "    Computes the median average deviation using madev() to determine sigma, which is then used to get the universal\n",
    "    threshold value.\n",
    "    Takes a wavelet name as input and performs denoising with 7 decomposition levels.\n",
    "    \"\"\"\n",
    "\n",
    "    new_coeffs = pywt.wavedec(noisy_signal, wavelet=wavelet, level=7, mode='per')\n",
    "    sigma = (1/0.6745) * madev(new_coeffs[-7])\n",
    "    uthresh = sigma * np.sqrt(2 * np.log(len(noisy_signal)))\n",
    "    new_coeffs[1:] = (pywt.threshold(i, value=uthresh, mode='hard') for i in new_coeffs[1:])\n",
    "    return pywt.waverec(new_coeffs, wavelet, mode='per')"
   ]
  },
  {
   "cell_type": "markdown",
   "id": "2cbd722b-d84b-476b-adae-6e413e11ac35",
   "metadata": {},
   "source": [
    "### 8. Definition of Savitzky-Golay filter function\n",
    "\n",
    "The [***Savitzky-Golay filter***](https://scipy.github.io/old-wiki/pages/Cookbook/SavitzkyGolay) function allows us to smooth out the denoised signal.\n",
    "Not sure why the output of the denoising is not smooth, but this is a temporary fix"
   ]
  },
  {
   "cell_type": "code",
   "execution_count": 8,
   "id": "4519b2c0-c9dd-4fcd-bf63-3c83cec82888",
   "metadata": {},
   "outputs": [],
   "source": [
    "def savitzky_golay(y, window_size, order, deriv=0, rate=1):\n",
    "    r\"\"\"Smooth (and optionally differentiate) data with a Savitzky-Golay filter.\n",
    "    The Savitzky-Golay filter removes high frequency noise from data.\n",
    "    It has the advantage of preserving the original shape and\n",
    "    features of the signal better than other types of filtering\n",
    "    approaches, such as moving averages techniques.\n",
    "    Parameters\n",
    "    ----------\n",
    "    y : array_like, shape (N,)\n",
    "        the values of the time history of the signal.\n",
    "    window_size : int\n",
    "        the length of the window. Must be an odd integer number.\n",
    "    order : int\n",
    "        the order of the polynomial used in the filtering.\n",
    "        Must be less then `window_size` - 1.\n",
    "    deriv: int\n",
    "        the order of the derivative to compute (default = 0 means only smoothing)\n",
    "    Returns\n",
    "    -------\n",
    "    ys : ndarray, shape (N)\n",
    "        the smoothed signal (or it's n-th derivative).\n",
    "    Notes\n",
    "    -----\n",
    "    The Savitzky-Golay is a type of low-pass filter, particularly\n",
    "    suited for smoothing noisy data. The main idea behind this\n",
    "    approach is to make for each point a least-square fit with a\n",
    "    polynomial of high order over a odd-sized window centered at\n",
    "    the point.\n",
    "    Examples\n",
    "    --------\n",
    "    t = np.linspace(-4, 4, 500)\n",
    "    y = np.exp( -t**2 ) + np.random.normal(0, 0.05, t.shape)\n",
    "    ysg = savitzky_golay(y, window_size=31, order=4)\n",
    "    import matplotlib.pyplot as plt\n",
    "    plt.plot(t, y, label='Noisy signal')\n",
    "    plt.plot(t, np.exp(-t**2), 'k', lw=1.5, label='Original signal')\n",
    "    plt.plot(t, ysg, 'r', label='Filtered signal')\n",
    "    plt.legend()\n",
    "    plt.show()\n",
    "    References\n",
    "    ----------\n",
    "    .. [1] A. Savitzky, M. J. E. Golay, Smoothing and Differentiation of\n",
    "       Data by Simplified Least Squares Procedures. Analytical\n",
    "       Chemistry, 1964, 36 (8), pp 1627-1639.\n",
    "    .. [2] Numerical Recipes 3rd Edition: The Art of Scientific Computing\n",
    "       W.H. Press, S.A. Teukolsky, W.T. Vetterling, B.P. Flannery\n",
    "       Cambridge University Press ISBN-13: 9780521880688\n",
    "    \"\"\"\n",
    "\n",
    "    try:\n",
    "        window_size = np.abs(int(window_size))\n",
    "        order = np.abs(int(order))\n",
    "    except ValueError:\n",
    "        raise ValueError(\"window_size and order have to be of type int\")\n",
    "    if window_size % 2 != 1 or window_size < 1:\n",
    "        raise TypeError(\"window_size size must be a positive odd number\")\n",
    "    if window_size < order + 2:\n",
    "        raise TypeError(\"window_size is too small for the polynomials order\")\n",
    "    order_range = range(order + 1)\n",
    "    half_window = (window_size - 1) // 2\n",
    "    # precompute coefficients\n",
    "    b = np.mat([[k ** i for i in order_range] for k in range(-half_window, half_window + 1)])\n",
    "    m = np.linalg.pinv(b).A[deriv] * rate ** deriv * factorial(deriv)\n",
    "    # pad the signal at the extremes with\n",
    "    # values taken from the signal itself\n",
    "    firstvals = y[0] - np.abs(y[1:half_window + 1][::-1] - y[0])\n",
    "    lastvals = y[-1] + np.abs(y[-half_window - 1:-1][::-1] - y[-1])\n",
    "    y = np.concatenate((firstvals, y, lastvals))\n",
    "    return np.convolve(m[::-1], y, mode='valid')"
   ]
  },
  {
   "cell_type": "markdown",
   "id": "b6a27a87-848d-43ec-90b6-bfec1aaf32f7",
   "metadata": {},
   "source": [
    "### 9. Visualisation of denoising performance\n",
    "\n",
    "Plots the **clean signal**, **noisy signal**, signal denoised using the **basic wavelet denoising** technique, as well as the signal denoised\n",
    "using the **optimized wavelet denoising** technique."
   ]
  },
  {
   "cell_type": "code",
   "execution_count": 9,
   "id": "e0d36b82-b3d5-44c6-812d-522927e05db6",
   "metadata": {},
   "outputs": [],
   "source": [
    "def plot_denoised(denoised, wavelet):\n",
    "    \"\"\"\n",
    "    Function performs a comparison plot of the clean signal, noisy signal, signal denoised using the basic\n",
    "    wavelet denoising technique, as well as the signal denoised using the optimized denoising technique.\n",
    "    \"\"\"\n",
    "    plt.figure(figsize=(10, 4))\n",
    "    plt.title(\"Comparison of clean, noisy, & denoised signals\")\n",
    "    #plt.title(\"WV: \" + wave + \", LVL: \" + str(lvl) + \", THR_TYP: \" + trshtype + \", SNR: \" + str(currentSNR))\n",
    "    plt.plot(noisy_signal, label='Noisy PD Pulse')\n",
    "    plt.plot(basic_wavelet_denoising(wavelet), label='db11 Denoised Pulse')\n",
    "    plt.plot(denoised, label='Optimized Denoising Pulse')\n",
    "    plt.plot(clean_signal_upsampled, label='Clean PD Pulse')\n",
    "    plt.ylabel('Amplitude [mV]')\n",
    "    plt.xlabel('Samples')\n",
    "    plt.legend()\n",
    "    plt.show()"
   ]
  },
  {
   "cell_type": "markdown",
   "id": "253386af-fc4f-46c2-8b59-fc70e9e3fe74",
   "metadata": {},
   "source": [
    "### 10. Calling functions\n",
    "\n",
    "Call functions below. ***'basic_wavelet'*** takes in the name of the basic wavelet used for comparison with our optimized wavelet."
   ]
  },
  {
   "cell_type": "code",
   "execution_count": 10,
   "id": "9c9f5e28-3125-4845-b262-ece4b3067d5e",
   "metadata": {},
   "outputs": [
    {
     "name": "stdout",
     "output_type": "stream",
     "text": [
      "SNR: 1.7476956046138514\n",
      "MSE: 0.01485446498655332\n",
      "CC: 0.930759068882009\n"
     ]
    },
    {
     "data": {
      "image/png": "[encoded data removed]",
      "text/plain": [
       "<Figure size 720x288 with 1 Axes>"
      ]
     },
     "metadata": {
      "needs_background": "light"
     },
     "output_type": "display_data"
    }
   ],
   "source": [
    "basic_wavelet = 'db11'\n",
    "denoised = wavelet_denoising()\n",
    "denoised = savitzky_golay(denoised,65,0)\n",
    "print(\"SNR: \"+ str(SNR(clean_signal_upsampled, denoised)))\n",
    "print(\"MSE: \"+ str(MSE(clean_signal_upsampled, denoised)))\n",
    "print(\"CC: \"+ str(CC(clean_signal_upsampled, denoised)))\n",
    "plot_denoised(denoised, basic_wavelet)"
   ]
  },
  {
   "cell_type": "markdown",
   "id": "8620f7ee-c950-47fa-a270-8f493ada757f",
   "metadata": {},
   "source": [
    "### 11. End of script\n",
    "\n",
    "Completion status is presented, and timer is ended here."
   ]
  },
  {
   "cell_type": "code",
   "execution_count": 11,
   "id": "9fabdabd-4b6f-4579-a7ba-23a70e4e18ed",
   "metadata": {},
   "outputs": [
    {
     "name": "stdout",
     "output_type": "stream",
     "text": [
      "\n",
      "===DENOISING COMPLETED===\n",
      "Elapsed Time:  0.31432259999928647 secs\n",
      "\n"
     ]
    }
   ],
   "source": [
    "end = timer()\n",
    "elapsed = end-start\n",
    "print(\"\\n===DENOISING COMPLETED===\")\n",
    "print(\"Elapsed Time: \",elapsed,\"secs\\n\")"
   ]
  },
  {
   "cell_type": "markdown",
   "id": "9ed9d322-180c-4ff4-8aa4-648fef17c8c5",
   "metadata": {},
   "source": [
    "## *Conclusion*\n",
    "\n",
    "This concludes the optimized wavelet denoising process for the noise-contaminated PD signals.\n",
    "The results show that ..."
   ]
  }
 ],
 "metadata": {
  "kernelspec": {
   "display_name": "Python 3 (ipykernel)",
   "language": "python",
   "name": "python3"
  },
  "language_info": {
   "codemirror_mode": {
    "name": "ipython",
    "version": 3
   },
   "file_extension": ".py",
   "mimetype": "text/x-python",
   "name": "python",
   "nbconvert_exporter": "python",
   "pygments_lexer": "ipython3",
   "version": "3.10.1"
  }
 },
 "nbformat": 4,
 "nbformat_minor": 5
}
